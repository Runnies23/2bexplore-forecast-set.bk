{
 "cells": [
  {
   "cell_type": "code",
   "execution_count": 1,
   "id": "behavioral-grocery",
   "metadata": {
    "_cell_guid": "b1076dfc-b9ad-4769-8c92-a6c4dae69d19",
    "_uuid": "8f2839f25d086af736a60e9eeb907d3b93b6e0e5",
    "execution": {
     "iopub.execute_input": "2021-05-13T02:39:55.418337Z",
     "iopub.status.busy": "2021-05-13T02:39:55.417637Z",
     "iopub.status.idle": "2021-05-13T02:40:04.467330Z",
     "shell.execute_reply": "2021-05-13T02:40:04.466366Z"
    },
    "papermill": {
     "duration": 9.078483,
     "end_time": "2021-05-13T02:40:04.467573",
     "exception": false,
     "start_time": "2021-05-13T02:39:55.389090",
     "status": "completed"
    },
    "tags": []
   },
   "outputs": [],
   "source": [
    "import numpy as np\n",
    "import pandas as pd\n",
    "\n",
    "import os\n",
    "import matplotlib.pyplot as plt\n",
    "import pandas_datareader as web\n",
    "import datetime as dt\n",
    "from sklearn.metrics import mean_squared_error, r2_score\n",
    "\n",
    "from sklearn.preprocessing import MinMaxScaler\n",
    "from tensorflow.keras.models import Sequential\n",
    "from tensorflow.keras.layers import Dense, Dropout, LSTM\n",
    "from tensorflow.keras.callbacks import ModelCheckpoint, EarlyStopping\n",
    "\n",
    "import matplotlib.dates as dates\n",
    "import plotly.express as px\n",
    "import plotly.graph_objects as go\n",
    "from plotly.subplots import make_subplots"
   ]
  },
  {
   "cell_type": "code",
   "execution_count": 2,
   "id": "authorized-median",
   "metadata": {
    "execution": {
     "iopub.execute_input": "2021-05-13T02:40:04.507829Z",
     "iopub.status.busy": "2021-05-13T02:40:04.507171Z",
     "iopub.status.idle": "2021-05-13T02:40:04.574950Z",
     "shell.execute_reply": "2021-05-13T02:40:04.575564Z"
    },
    "papermill": {
     "duration": 0.086562,
     "end_time": "2021-05-13T02:40:04.575746",
     "exception": false,
     "start_time": "2021-05-13T02:40:04.489184",
     "status": "completed"
    },
    "tags": []
   },
   "outputs": [
    {
     "data": {
      "text/plain": [
       "(1329, 49)"
      ]
     },
     "execution_count": 2,
     "metadata": {},
     "output_type": "execute_result"
    }
   ],
   "source": [
    "df=pd.read_csv('maindatadonedelindicator.csv')\n",
    "df.shape"
   ]
  },
  {
   "cell_type": "code",
   "execution_count": 3,
   "id": "6d424261",
   "metadata": {},
   "outputs": [
    {
     "data": {
      "text/plain": [
       "\"# selecting Feature Columns\\nfeature_columns = [ 'Local_Institutes_buy', 'Local_Institutes_sell',\\n       'Local_Institutes_net', 'Proprietary_Trading_buy',\\n       'Proprietary_Trading_sell', 'Proprietary_Trading_net',\\n       'Foreign_Investors_buy', 'Foreign_Investors_sell',\\n       'Foreign_Investors_net', 'Local Investors', 'Unnamed: 11',\\n       'Unnamed: 12', 'Open', 'High', 'Low','Close', 'Adj Close', 'Volume',\\n       'Gold_Open', 'Gold_High', 'Gold_Low', 'Gold_Close', 'Gold_Adjclose',\\n       'Gold_Volume', 'Dji_Open', 'Dji_High', 'Dji_Low', 'Dji_Close',\\n       'Dji_Adjclose', 'Dji_Volume', 'ADX', 'Aroon_Oscillator',\\n       'Stoch_Oscillator', 'MACD', 'RSI', 'ichimoku_a', 'ichimoku_b',\\n       'ichimoku_base_line', 'ichimoku_conversion_line', 'parabolic_sar',\\n       'EMA_10', 'EMA_20', 'EMA_50', 'EMA_100', 'bb_bbm', 'bb_bbh', 'bb_bbl']\\n\""
      ]
     },
     "execution_count": 3,
     "metadata": {},
     "output_type": "execute_result"
    }
   ],
   "source": [
    "\"\"\"# selecting Feature Columns\n",
    "feature_columns = [ 'Local_Institutes_buy', 'Local_Institutes_sell',\n",
    "       'Local_Institutes_net', 'Proprietary_Trading_buy',\n",
    "       'Proprietary_Trading_sell', 'Proprietary_Trading_net',\n",
    "       'Foreign_Investors_buy', 'Foreign_Investors_sell',\n",
    "       'Foreign_Investors_net', 'Local Investors', 'Unnamed: 11',\n",
    "       'Unnamed: 12', 'Open', 'High', 'Low','Close', 'Adj Close', 'Volume',\n",
    "       'Gold_Open', 'Gold_High', 'Gold_Low', 'Gold_Close', 'Gold_Adjclose',\n",
    "       'Gold_Volume', 'Dji_Open', 'Dji_High', 'Dji_Low', 'Dji_Close',\n",
    "       'Dji_Adjclose', 'Dji_Volume', 'ADX', 'Aroon_Oscillator',\n",
    "       'Stoch_Oscillator', 'MACD', 'RSI', 'ichimoku_a', 'ichimoku_b',\n",
    "       'ichimoku_base_line', 'ichimoku_conversion_line', 'parabolic_sar',\n",
    "       'EMA_10', 'EMA_20', 'EMA_50', 'EMA_100', 'bb_bbm', 'bb_bbh', 'bb_bbl']\n",
    "\"\"\""
   ]
  },
  {
   "cell_type": "code",
   "execution_count": 4,
   "id": "f6a086f6",
   "metadata": {},
   "outputs": [],
   "source": [
    "feature_columns = ['Local_Institutes_sell','Proprietary_Trading_sell','Foreign_Investors_net', 'Unnamed: 11', 'Open' , 'Low' , 'Close' , 'Volume' , 'Gold_Low' ,'Gold_Open','Gold_Volume','Dji_Open','Dji_Volume','Aroon_Oscillator','Stoch_Oscillator' ]"
   ]
  },
  {
   "cell_type": "code",
   "execution_count": 5,
   "id": "97d91389",
   "metadata": {},
   "outputs": [],
   "source": [
    "df = df[feature_columns]"
   ]
  },
  {
   "cell_type": "code",
   "execution_count": 6,
   "id": "e8dd2820",
   "metadata": {},
   "outputs": [
    {
     "data": {
      "text/plain": [
       "'#166 for each   if 1239 154 for each 154 ,  308 ,  462 ,  616  770 ,  924 ,  1078 ,  1232\\nX_train1 = df[:616]\\nX_test1 = df[616:770]\\n\\nX_train2 = df[154:770]\\nX_test2 = df[770:924]\\n\\n\\nX_train3 = df[308:924]\\nX_test3 = df[924:1078]\\n\\nX_train4 = df[462:1078]\\nX_test4 = df[1078:1232]'"
      ]
     },
     "execution_count": 6,
     "metadata": {},
     "output_type": "execute_result"
    }
   ],
   "source": [
    "\"\"\"#166 for each   if 1239 154 for each 154 ,  308 ,  462 ,  616  770 ,  924 ,  1078 ,  1232\n",
    "X_train1 = df[:616]\n",
    "X_test1 = df[616:770]\n",
    "\n",
    "X_train2 = df[154:770]\n",
    "X_test2 = df[770:924]\n",
    "\n",
    "\n",
    "X_train3 = df[308:924]\n",
    "X_test3 = df[924:1078]\n",
    "\n",
    "X_train4 = df[462:1078]\n",
    "X_test4 = df[1078:1232]\"\"\""
   ]
  },
  {
   "cell_type": "code",
   "execution_count": 7,
   "id": "b6afcb8e",
   "metadata": {},
   "outputs": [],
   "source": [
    "#166 for each   if 1239 154 for each 154 ,  308 ,  462 ,  616  770 ,  924 ,  1078 ,  1232\n",
    "#166 \n",
    "X_train1 = df[0:963]\n",
    "X_train2 = df[328:1328]\n",
    "\n",
    "#Y_predictresult = target_adj_close[867:]"
   ]
  },
  {
   "cell_type": "markdown",
   "id": "f5a301db",
   "metadata": {},
   "source": [
    "# split train test first walk forward"
   ]
  },
  {
   "cell_type": "code",
   "execution_count": 8,
   "id": "flush-blocking",
   "metadata": {
    "execution": {
     "iopub.execute_input": "2021-05-13T02:40:04.609152Z",
     "iopub.status.busy": "2021-05-13T02:40:04.608470Z",
     "iopub.status.idle": "2021-05-13T02:40:04.611965Z",
     "shell.execute_reply": "2021-05-13T02:40:04.611315Z"
    },
    "papermill": {
     "duration": 0.022294,
     "end_time": "2021-05-13T02:40:04.612115",
     "exception": false,
     "start_time": "2021-05-13T02:40:04.589821",
     "status": "completed"
    },
    "tags": []
   },
   "outputs": [],
   "source": [
    "data=X_train1[0:770]\n",
    "test_data=X_train1[770:963]\n",
    "#split train and test"
   ]
  },
  {
   "cell_type": "code",
   "execution_count": 9,
   "id": "6640a585",
   "metadata": {},
   "outputs": [
    {
     "data": {
      "text/plain": [
       "(770, 15)"
      ]
     },
     "execution_count": 9,
     "metadata": {},
     "output_type": "execute_result"
    }
   ],
   "source": [
    "data.shape"
   ]
  },
  {
   "cell_type": "code",
   "execution_count": 10,
   "id": "french-charge",
   "metadata": {
    "execution": {
     "iopub.execute_input": "2021-05-13T02:40:05.019481Z",
     "iopub.status.busy": "2021-05-13T02:40:05.018884Z",
     "iopub.status.idle": "2021-05-13T02:40:05.037328Z",
     "shell.execute_reply": "2021-05-13T02:40:05.037873Z"
    },
    "papermill": {
     "duration": 0.037901,
     "end_time": "2021-05-13T02:40:05.038048",
     "exception": false,
     "start_time": "2021-05-13T02:40:05.000147",
     "status": "completed"
    },
    "tags": []
   },
   "outputs": [
    {
     "data": {
      "text/plain": [
       "(193, 15)"
      ]
     },
     "execution_count": 10,
     "metadata": {},
     "output_type": "execute_result"
    }
   ],
   "source": [
    "test_data.shape"
   ]
  },
  {
   "cell_type": "code",
   "execution_count": 11,
   "id": "governmental-sleep",
   "metadata": {
    "execution": {
     "iopub.execute_input": "2021-05-13T02:40:05.075249Z",
     "iopub.status.busy": "2021-05-13T02:40:05.074550Z",
     "iopub.status.idle": "2021-05-13T02:40:05.080930Z",
     "shell.execute_reply": "2021-05-13T02:40:05.081481Z"
    },
    "papermill": {
     "duration": 0.026787,
     "end_time": "2021-05-13T02:40:05.081676",
     "exception": false,
     "start_time": "2021-05-13T02:40:05.054889",
     "status": "completed"
    },
    "tags": []
   },
   "outputs": [
    {
     "name": "stdout",
     "output_type": "stream",
     "text": [
      "770\n",
      "193\n"
     ]
    }
   ],
   "source": [
    "print(len(data))\n",
    "print(len(test_data))"
   ]
  },
  {
   "cell_type": "markdown",
   "id": "c6d9b880",
   "metadata": {},
   "source": [
    "normalize"
   ]
  },
  {
   "cell_type": "code",
   "execution_count": 12,
   "id": "involved-mandate",
   "metadata": {
    "execution": {
     "iopub.execute_input": "2021-05-13T02:40:05.122943Z",
     "iopub.status.busy": "2021-05-13T02:40:05.122099Z",
     "iopub.status.idle": "2021-05-13T02:40:05.124718Z",
     "shell.execute_reply": "2021-05-13T02:40:05.125231Z"
    },
    "papermill": {
     "duration": 0.025939,
     "end_time": "2021-05-13T02:40:05.125398",
     "exception": false,
     "start_time": "2021-05-13T02:40:05.099459",
     "status": "completed"
    },
    "tags": []
   },
   "outputs": [],
   "source": [
    "scaler = MinMaxScaler(feature_range=(0,1))\n",
    "scaled_data = scaler.fit_transform(data['Close'].values.reshape(-1,1))"
   ]
  },
  {
   "cell_type": "code",
   "execution_count": 13,
   "id": "46e068f8",
   "metadata": {},
   "outputs": [
    {
     "data": {
      "text/plain": [
       "(770, 1)"
      ]
     },
     "execution_count": 13,
     "metadata": {},
     "output_type": "execute_result"
    }
   ],
   "source": [
    "scaled_data.shape"
   ]
  },
  {
   "cell_type": "code",
   "execution_count": 14,
   "id": "acceptable-population",
   "metadata": {
    "execution": {
     "iopub.execute_input": "2021-05-13T02:40:05.163836Z",
     "iopub.status.busy": "2021-05-13T02:40:05.162894Z",
     "iopub.status.idle": "2021-05-13T02:40:05.173596Z",
     "shell.execute_reply": "2021-05-13T02:40:05.174088Z"
    },
    "papermill": {
     "duration": 0.031545,
     "end_time": "2021-05-13T02:40:05.174267",
     "exception": false,
     "start_time": "2021-05-13T02:40:05.142722",
     "status": "completed"
    },
    "tags": []
   },
   "outputs": [],
   "source": [
    "prediction_days = 1\n",
    "\n",
    "x_train = []\n",
    "y_train = []\n",
    "\n",
    "for x in range(prediction_days, len(scaled_data)):\n",
    "    x_train.append(scaled_data[x - prediction_days:x, 0])\n",
    "    y_train.append(scaled_data[x, 0])\n",
    "    \n",
    "x_train, y_train = np.array(x_train), np.array(y_train)\n",
    "x_train = np.reshape(x_train, (x_train.shape[0], x_train.shape[1], 1))"
   ]
  },
  {
   "cell_type": "code",
   "execution_count": 15,
   "id": "4b208a0c",
   "metadata": {},
   "outputs": [
    {
     "data": {
      "text/plain": [
       "(769, 1, 1)"
      ]
     },
     "execution_count": 15,
     "metadata": {},
     "output_type": "execute_result"
    }
   ],
   "source": [
    "x_train.shape"
   ]
  },
  {
   "cell_type": "code",
   "execution_count": 16,
   "id": "thick-hamburg",
   "metadata": {
    "execution": {
     "iopub.execute_input": "2021-05-13T02:40:05.214476Z",
     "iopub.status.busy": "2021-05-13T02:40:05.213859Z",
     "iopub.status.idle": "2021-05-13T02:40:05.217947Z",
     "shell.execute_reply": "2021-05-13T02:40:05.217438Z"
    },
    "papermill": {
     "duration": 0.02631,
     "end_time": "2021-05-13T02:40:05.218181",
     "exception": false,
     "start_time": "2021-05-13T02:40:05.191871",
     "status": "completed"
    },
    "tags": []
   },
   "outputs": [
    {
     "name": "stdout",
     "output_type": "stream",
     "text": [
      "(769,)\n"
     ]
    }
   ],
   "source": [
    "print(y_train.shape)"
   ]
  },
  {
   "cell_type": "code",
   "execution_count": 17,
   "id": "american-atmosphere",
   "metadata": {
    "execution": {
     "iopub.execute_input": "2021-05-13T02:40:05.260997Z",
     "iopub.status.busy": "2021-05-13T02:40:05.260334Z",
     "iopub.status.idle": "2021-05-13T02:40:05.263736Z",
     "shell.execute_reply": "2021-05-13T02:40:05.263167Z"
    },
    "papermill": {
     "duration": 0.027608,
     "end_time": "2021-05-13T02:40:05.263885",
     "exception": false,
     "start_time": "2021-05-13T02:40:05.236277",
     "status": "completed"
    },
    "tags": []
   },
   "outputs": [],
   "source": [
    "def LSTM_model():\n",
    "    \n",
    "    model = Sequential()    \n",
    "    model.add(LSTM(units = 32, return_sequences = True, input_shape = (x_train.shape[1],1)))\n",
    "    model.add(Dropout(0.2))\n",
    "    model.add(LSTM(units = 64, return_sequences = True))\n",
    "    model.add(Dropout(0.2))\n",
    "    model.add(LSTM(units = 64))\n",
    "    model.add(Dropout(0.2))\n",
    "    model.add(Dense(units=1))\n",
    "    \n",
    "    return model"
   ]
  },
  {
   "cell_type": "code",
   "execution_count": 18,
   "id": "junior-corporation",
   "metadata": {
    "execution": {
     "iopub.execute_input": "2021-05-13T02:40:05.305175Z",
     "iopub.status.busy": "2021-05-13T02:40:05.304474Z",
     "iopub.status.idle": "2021-05-13T02:40:06.230298Z",
     "shell.execute_reply": "2021-05-13T02:40:06.230895Z"
    },
    "papermill": {
     "duration": 0.949039,
     "end_time": "2021-05-13T02:40:06.231123",
     "exception": false,
     "start_time": "2021-05-13T02:40:05.282084",
     "status": "completed"
    },
    "tags": []
   },
   "outputs": [
    {
     "name": "stderr",
     "output_type": "stream",
     "text": [
      "c:\\Users\\Nattapong\\AppData\\Local\\Programs\\Python\\Python312\\Lib\\site-packages\\keras\\src\\layers\\rnn\\rnn.py:204: UserWarning: Do not pass an `input_shape`/`input_dim` argument to a layer. When using Sequential models, prefer using an `Input(shape)` object as the first layer in the model instead.\n",
      "  super().__init__(**kwargs)\n"
     ]
    },
    {
     "data": {
      "text/html": [
       "<pre style=\"white-space:pre;overflow-x:auto;line-height:normal;font-family:Menlo,'DejaVu Sans Mono',consolas,'Courier New',monospace\"><span style=\"font-weight: bold\">Model: \"sequential\"</span>\n",
       "</pre>\n"
      ],
      "text/plain": [
       "\u001b[1mModel: \"sequential\"\u001b[0m\n"
      ]
     },
     "metadata": {},
     "output_type": "display_data"
    },
    {
     "data": {
      "text/html": [
       "<pre style=\"white-space:pre;overflow-x:auto;line-height:normal;font-family:Menlo,'DejaVu Sans Mono',consolas,'Courier New',monospace\">┏━━━━━━━━━━━━━━━━━━━━━━━━━━━━━━━━━┳━━━━━━━━━━━━━━━━━━━━━━━━┳━━━━━━━━━━━━━━━┓\n",
       "┃<span style=\"font-weight: bold\"> Layer (type)                    </span>┃<span style=\"font-weight: bold\"> Output Shape           </span>┃<span style=\"font-weight: bold\">       Param # </span>┃\n",
       "┡━━━━━━━━━━━━━━━━━━━━━━━━━━━━━━━━━╇━━━━━━━━━━━━━━━━━━━━━━━━╇━━━━━━━━━━━━━━━┩\n",
       "│ lstm (<span style=\"color: #0087ff; text-decoration-color: #0087ff\">LSTM</span>)                     │ (<span style=\"color: #00d7ff; text-decoration-color: #00d7ff\">None</span>, <span style=\"color: #00af00; text-decoration-color: #00af00\">1</span>, <span style=\"color: #00af00; text-decoration-color: #00af00\">32</span>)          │         <span style=\"color: #00af00; text-decoration-color: #00af00\">4,352</span> │\n",
       "├─────────────────────────────────┼────────────────────────┼───────────────┤\n",
       "│ dropout (<span style=\"color: #0087ff; text-decoration-color: #0087ff\">Dropout</span>)               │ (<span style=\"color: #00d7ff; text-decoration-color: #00d7ff\">None</span>, <span style=\"color: #00af00; text-decoration-color: #00af00\">1</span>, <span style=\"color: #00af00; text-decoration-color: #00af00\">32</span>)          │             <span style=\"color: #00af00; text-decoration-color: #00af00\">0</span> │\n",
       "├─────────────────────────────────┼────────────────────────┼───────────────┤\n",
       "│ lstm_1 (<span style=\"color: #0087ff; text-decoration-color: #0087ff\">LSTM</span>)                   │ (<span style=\"color: #00d7ff; text-decoration-color: #00d7ff\">None</span>, <span style=\"color: #00af00; text-decoration-color: #00af00\">1</span>, <span style=\"color: #00af00; text-decoration-color: #00af00\">64</span>)          │        <span style=\"color: #00af00; text-decoration-color: #00af00\">24,832</span> │\n",
       "├─────────────────────────────────┼────────────────────────┼───────────────┤\n",
       "│ dropout_1 (<span style=\"color: #0087ff; text-decoration-color: #0087ff\">Dropout</span>)             │ (<span style=\"color: #00d7ff; text-decoration-color: #00d7ff\">None</span>, <span style=\"color: #00af00; text-decoration-color: #00af00\">1</span>, <span style=\"color: #00af00; text-decoration-color: #00af00\">64</span>)          │             <span style=\"color: #00af00; text-decoration-color: #00af00\">0</span> │\n",
       "├─────────────────────────────────┼────────────────────────┼───────────────┤\n",
       "│ lstm_2 (<span style=\"color: #0087ff; text-decoration-color: #0087ff\">LSTM</span>)                   │ (<span style=\"color: #00d7ff; text-decoration-color: #00d7ff\">None</span>, <span style=\"color: #00af00; text-decoration-color: #00af00\">64</span>)             │        <span style=\"color: #00af00; text-decoration-color: #00af00\">33,024</span> │\n",
       "├─────────────────────────────────┼────────────────────────┼───────────────┤\n",
       "│ dropout_2 (<span style=\"color: #0087ff; text-decoration-color: #0087ff\">Dropout</span>)             │ (<span style=\"color: #00d7ff; text-decoration-color: #00d7ff\">None</span>, <span style=\"color: #00af00; text-decoration-color: #00af00\">64</span>)             │             <span style=\"color: #00af00; text-decoration-color: #00af00\">0</span> │\n",
       "├─────────────────────────────────┼────────────────────────┼───────────────┤\n",
       "│ dense (<span style=\"color: #0087ff; text-decoration-color: #0087ff\">Dense</span>)                   │ (<span style=\"color: #00d7ff; text-decoration-color: #00d7ff\">None</span>, <span style=\"color: #00af00; text-decoration-color: #00af00\">1</span>)              │            <span style=\"color: #00af00; text-decoration-color: #00af00\">65</span> │\n",
       "└─────────────────────────────────┴────────────────────────┴───────────────┘\n",
       "</pre>\n"
      ],
      "text/plain": [
       "┏━━━━━━━━━━━━━━━━━━━━━━━━━━━━━━━━━┳━━━━━━━━━━━━━━━━━━━━━━━━┳━━━━━━━━━━━━━━━┓\n",
       "┃\u001b[1m \u001b[0m\u001b[1mLayer (type)                   \u001b[0m\u001b[1m \u001b[0m┃\u001b[1m \u001b[0m\u001b[1mOutput Shape          \u001b[0m\u001b[1m \u001b[0m┃\u001b[1m \u001b[0m\u001b[1m      Param #\u001b[0m\u001b[1m \u001b[0m┃\n",
       "┡━━━━━━━━━━━━━━━━━━━━━━━━━━━━━━━━━╇━━━━━━━━━━━━━━━━━━━━━━━━╇━━━━━━━━━━━━━━━┩\n",
       "│ lstm (\u001b[38;5;33mLSTM\u001b[0m)                     │ (\u001b[38;5;45mNone\u001b[0m, \u001b[38;5;34m1\u001b[0m, \u001b[38;5;34m32\u001b[0m)          │         \u001b[38;5;34m4,352\u001b[0m │\n",
       "├─────────────────────────────────┼────────────────────────┼───────────────┤\n",
       "│ dropout (\u001b[38;5;33mDropout\u001b[0m)               │ (\u001b[38;5;45mNone\u001b[0m, \u001b[38;5;34m1\u001b[0m, \u001b[38;5;34m32\u001b[0m)          │             \u001b[38;5;34m0\u001b[0m │\n",
       "├─────────────────────────────────┼────────────────────────┼───────────────┤\n",
       "│ lstm_1 (\u001b[38;5;33mLSTM\u001b[0m)                   │ (\u001b[38;5;45mNone\u001b[0m, \u001b[38;5;34m1\u001b[0m, \u001b[38;5;34m64\u001b[0m)          │        \u001b[38;5;34m24,832\u001b[0m │\n",
       "├─────────────────────────────────┼────────────────────────┼───────────────┤\n",
       "│ dropout_1 (\u001b[38;5;33mDropout\u001b[0m)             │ (\u001b[38;5;45mNone\u001b[0m, \u001b[38;5;34m1\u001b[0m, \u001b[38;5;34m64\u001b[0m)          │             \u001b[38;5;34m0\u001b[0m │\n",
       "├─────────────────────────────────┼────────────────────────┼───────────────┤\n",
       "│ lstm_2 (\u001b[38;5;33mLSTM\u001b[0m)                   │ (\u001b[38;5;45mNone\u001b[0m, \u001b[38;5;34m64\u001b[0m)             │        \u001b[38;5;34m33,024\u001b[0m │\n",
       "├─────────────────────────────────┼────────────────────────┼───────────────┤\n",
       "│ dropout_2 (\u001b[38;5;33mDropout\u001b[0m)             │ (\u001b[38;5;45mNone\u001b[0m, \u001b[38;5;34m64\u001b[0m)             │             \u001b[38;5;34m0\u001b[0m │\n",
       "├─────────────────────────────────┼────────────────────────┼───────────────┤\n",
       "│ dense (\u001b[38;5;33mDense\u001b[0m)                   │ (\u001b[38;5;45mNone\u001b[0m, \u001b[38;5;34m1\u001b[0m)              │            \u001b[38;5;34m65\u001b[0m │\n",
       "└─────────────────────────────────┴────────────────────────┴───────────────┘\n"
      ]
     },
     "metadata": {},
     "output_type": "display_data"
    },
    {
     "data": {
      "text/html": [
       "<pre style=\"white-space:pre;overflow-x:auto;line-height:normal;font-family:Menlo,'DejaVu Sans Mono',consolas,'Courier New',monospace\"><span style=\"font-weight: bold\"> Total params: </span><span style=\"color: #00af00; text-decoration-color: #00af00\">62,273</span> (243.25 KB)\n",
       "</pre>\n"
      ],
      "text/plain": [
       "\u001b[1m Total params: \u001b[0m\u001b[38;5;34m62,273\u001b[0m (243.25 KB)\n"
      ]
     },
     "metadata": {},
     "output_type": "display_data"
    },
    {
     "data": {
      "text/html": [
       "<pre style=\"white-space:pre;overflow-x:auto;line-height:normal;font-family:Menlo,'DejaVu Sans Mono',consolas,'Courier New',monospace\"><span style=\"font-weight: bold\"> Trainable params: </span><span style=\"color: #00af00; text-decoration-color: #00af00\">62,273</span> (243.25 KB)\n",
       "</pre>\n"
      ],
      "text/plain": [
       "\u001b[1m Trainable params: \u001b[0m\u001b[38;5;34m62,273\u001b[0m (243.25 KB)\n"
      ]
     },
     "metadata": {},
     "output_type": "display_data"
    },
    {
     "data": {
      "text/html": [
       "<pre style=\"white-space:pre;overflow-x:auto;line-height:normal;font-family:Menlo,'DejaVu Sans Mono',consolas,'Courier New',monospace\"><span style=\"font-weight: bold\"> Non-trainable params: </span><span style=\"color: #00af00; text-decoration-color: #00af00\">0</span> (0.00 B)\n",
       "</pre>\n"
      ],
      "text/plain": [
       "\u001b[1m Non-trainable params: \u001b[0m\u001b[38;5;34m0\u001b[0m (0.00 B)\n"
      ]
     },
     "metadata": {},
     "output_type": "display_data"
    }
   ],
   "source": [
    "model = LSTM_model()\n",
    "model.summary()\n",
    "model.compile(optimizer='adam', loss='mean_squared_error')"
   ]
  },
  {
   "cell_type": "code",
   "execution_count": 19,
   "id": "controlling-cover",
   "metadata": {
    "execution": {
     "iopub.execute_input": "2021-05-13T02:40:06.276345Z",
     "iopub.status.busy": "2021-05-13T02:40:06.275539Z",
     "iopub.status.idle": "2021-05-13T02:40:42.291555Z",
     "shell.execute_reply": "2021-05-13T02:40:42.292154Z"
    },
    "papermill": {
     "duration": 36.041973,
     "end_time": "2021-05-13T02:40:42.292362",
     "exception": false,
     "start_time": "2021-05-13T02:40:06.250389",
     "status": "completed"
    },
    "tags": []
   },
   "outputs": [
    {
     "name": "stdout",
     "output_type": "stream",
     "text": [
      "Epoch 1/50\n"
     ]
    },
    {
     "name": "stdout",
     "output_type": "stream",
     "text": [
      "22/22 - 6s - 268ms/step - loss: 0.4287\n",
      "Epoch 2/50\n",
      "22/22 - 0s - 4ms/step - loss: 0.1907\n",
      "Epoch 3/50\n",
      "22/22 - 0s - 3ms/step - loss: 0.0329\n",
      "Epoch 4/50\n",
      "22/22 - 0s - 3ms/step - loss: 0.0238\n",
      "Epoch 5/50\n",
      "22/22 - 0s - 4ms/step - loss: 0.0222\n",
      "Epoch 6/50\n",
      "22/22 - 0s - 4ms/step - loss: 0.0189\n",
      "Epoch 7/50\n",
      "22/22 - 0s - 5ms/step - loss: 0.0165\n",
      "Epoch 8/50\n",
      "22/22 - 0s - 4ms/step - loss: 0.0162\n",
      "Epoch 9/50\n",
      "22/22 - 0s - 5ms/step - loss: 0.0136\n",
      "Epoch 10/50\n",
      "22/22 - 0s - 4ms/step - loss: 0.0107\n",
      "Epoch 11/50\n",
      "22/22 - 0s - 5ms/step - loss: 0.0095\n",
      "Epoch 12/50\n",
      "22/22 - 0s - 5ms/step - loss: 0.0086\n",
      "Epoch 13/50\n",
      "22/22 - 0s - 6ms/step - loss: 0.0084\n",
      "Epoch 14/50\n",
      "22/22 - 0s - 4ms/step - loss: 0.0081\n",
      "Epoch 15/50\n",
      "22/22 - 0s - 4ms/step - loss: 0.0069\n",
      "Epoch 16/50\n",
      "22/22 - 0s - 4ms/step - loss: 0.0075\n",
      "Epoch 17/50\n",
      "22/22 - 0s - 4ms/step - loss: 0.0077\n",
      "Epoch 18/50\n",
      "22/22 - 0s - 4ms/step - loss: 0.0069\n",
      "Epoch 19/50\n",
      "22/22 - 0s - 4ms/step - loss: 0.0067\n",
      "Epoch 20/50\n",
      "22/22 - 0s - 5ms/step - loss: 0.0062\n",
      "Epoch 21/50\n",
      "22/22 - 0s - 5ms/step - loss: 0.0065\n",
      "Epoch 22/50\n",
      "22/22 - 0s - 4ms/step - loss: 0.0063\n",
      "Epoch 23/50\n",
      "22/22 - 0s - 4ms/step - loss: 0.0066\n",
      "Epoch 24/50\n",
      "22/22 - 0s - 4ms/step - loss: 0.0061\n",
      "Epoch 25/50\n",
      "22/22 - 0s - 5ms/step - loss: 0.0067\n",
      "Epoch 26/50\n",
      "22/22 - 0s - 5ms/step - loss: 0.0056\n",
      "Epoch 27/50\n",
      "22/22 - 0s - 5ms/step - loss: 0.0058\n",
      "Epoch 28/50\n",
      "22/22 - 0s - 4ms/step - loss: 0.0057\n",
      "Epoch 29/50\n",
      "22/22 - 0s - 4ms/step - loss: 0.0051\n",
      "Epoch 30/50\n",
      "22/22 - 0s - 10ms/step - loss: 0.0049\n",
      "Epoch 31/50\n",
      "22/22 - 0s - 4ms/step - loss: 0.0055\n",
      "Epoch 32/50\n",
      "22/22 - 0s - 4ms/step - loss: 0.0049\n",
      "Epoch 33/50\n",
      "22/22 - 0s - 5ms/step - loss: 0.0043\n",
      "Epoch 34/50\n",
      "22/22 - 0s - 5ms/step - loss: 0.0047\n",
      "Epoch 35/50\n",
      "22/22 - 0s - 4ms/step - loss: 0.0046\n",
      "Epoch 36/50\n",
      "22/22 - 0s - 4ms/step - loss: 0.0043\n",
      "Epoch 37/50\n",
      "22/22 - 0s - 5ms/step - loss: 0.0046\n",
      "Epoch 38/50\n",
      "22/22 - 0s - 4ms/step - loss: 0.0045\n",
      "Epoch 39/50\n",
      "22/22 - 0s - 4ms/step - loss: 0.0042\n",
      "Epoch 40/50\n",
      "22/22 - 0s - 4ms/step - loss: 0.0040\n",
      "Epoch 41/50\n",
      "22/22 - 0s - 4ms/step - loss: 0.0040\n",
      "Epoch 42/50\n",
      "22/22 - 0s - 4ms/step - loss: 0.0035\n",
      "Epoch 43/50\n",
      "22/22 - 0s - 4ms/step - loss: 0.0039\n",
      "Epoch 44/50\n",
      "22/22 - 0s - 4ms/step - loss: 0.0036\n",
      "Epoch 45/50\n",
      "22/22 - 0s - 4ms/step - loss: 0.0036\n",
      "Epoch 46/50\n",
      "22/22 - 0s - 5ms/step - loss: 0.0038\n",
      "Epoch 47/50\n",
      "22/22 - 0s - 4ms/step - loss: 0.0034\n",
      "Epoch 48/50\n",
      "22/22 - 0s - 4ms/step - loss: 0.0033\n",
      "Epoch 49/50\n",
      "22/22 - 0s - 4ms/step - loss: 0.0035\n",
      "Epoch 50/50\n",
      "22/22 - 0s - 4ms/step - loss: 0.0038\n"
     ]
    },
    {
     "data": {
      "text/plain": [
       "<keras.src.callbacks.history.History at 0x11e6303e7b0>"
      ]
     },
     "execution_count": 19,
     "metadata": {},
     "output_type": "execute_result"
    }
   ],
   "source": [
    "model.fit(x_train, y_train, epochs=50, batch_size = 36,verbose = 2)"
   ]
  },
  {
   "cell_type": "code",
   "execution_count": 20,
   "id": "abstract-peeing",
   "metadata": {
    "execution": {
     "iopub.execute_input": "2021-05-13T02:40:42.479465Z",
     "iopub.status.busy": "2021-05-13T02:40:42.478717Z",
     "iopub.status.idle": "2021-05-13T02:40:42.482407Z",
     "shell.execute_reply": "2021-05-13T02:40:42.481899Z"
    },
    "papermill": {
     "duration": 0.100618,
     "end_time": "2021-05-13T02:40:42.482564",
     "exception": false,
     "start_time": "2021-05-13T02:40:42.381946",
     "status": "completed"
    },
    "tags": []
   },
   "outputs": [],
   "source": [
    "actual_prices = test_data['Close'].values\n",
    "total_dataset = X_train1['Close']\n",
    "\n",
    "model_inputs = total_dataset[len(total_dataset)-len(test_data)-prediction_days:].values\n",
    "model_inputs = model_inputs.reshape(-1,1)\n",
    "model_inputs = scaler.transform(model_inputs)"
   ]
  },
  {
   "cell_type": "code",
   "execution_count": 21,
   "id": "global-warehouse",
   "metadata": {
    "execution": {
     "iopub.execute_input": "2021-05-13T02:40:42.665221Z",
     "iopub.status.busy": "2021-05-13T02:40:42.664542Z",
     "iopub.status.idle": "2021-05-13T02:40:43.973995Z",
     "shell.execute_reply": "2021-05-13T02:40:43.973316Z"
    },
    "papermill": {
     "duration": 1.403449,
     "end_time": "2021-05-13T02:40:43.974171",
     "exception": false,
     "start_time": "2021-05-13T02:40:42.570722",
     "status": "completed"
    },
    "tags": []
   },
   "outputs": [
    {
     "name": "stdout",
     "output_type": "stream",
     "text": [
      "\u001b[1m7/7\u001b[0m \u001b[32m━━━━━━━━━━━━━━━━━━━━\u001b[0m\u001b[37m\u001b[0m \u001b[1m1s\u001b[0m 79ms/step\n"
     ]
    }
   ],
   "source": [
    "x_test = []\n",
    "for x in range(prediction_days,len(model_inputs)):\n",
    "    x_test.append(model_inputs[x-prediction_days:x,0])\n",
    "\n",
    "x_test = np.array(x_test)\n",
    "x_test = np.reshape(x_test,(x_test.shape[0],x_test.shape[1],1))\n",
    "\n",
    "predicted_prices = model.predict(x_test)\n",
    "predicted_prices = scaler.inverse_transform(predicted_prices)"
   ]
  },
  {
   "cell_type": "code",
   "execution_count": 22,
   "id": "3089f8f2",
   "metadata": {},
   "outputs": [
    {
     "data": {
      "text/plain": [
       "(193, 1)"
      ]
     },
     "execution_count": 22,
     "metadata": {},
     "output_type": "execute_result"
    }
   ],
   "source": [
    "predicted_prices.shape"
   ]
  },
  {
   "cell_type": "code",
   "execution_count": 23,
   "id": "86952505",
   "metadata": {},
   "outputs": [
    {
     "name": "stdout",
     "output_type": "stream",
     "text": [
      "MSE: 138.21027363679895\n",
      "MAPE:  2.9519035762090575 %\n"
     ]
    },
    {
     "data": {
      "image/png": "[encoded data removed]",
      "text/plain": [
       "<Figure size 640x480 with 1 Axes>"
      ]
     },
     "metadata": {},
     "output_type": "display_data"
    }
   ],
   "source": [
    "mse1 = mean_squared_error(actual_prices, predicted_prices)\n",
    "\n",
    "\n",
    "print(f\"MSE: {mse1}\")\n",
    "\n",
    "\n",
    "MAPE_score1 = np.mean(np.abs((actual_prices - predicted_prices) / actual_prices)) * 100\n",
    "print('MAPE: ', MAPE_score1, '%')\n",
    "\n",
    "LSTMpredictfirst = predicted_prices\n",
    "\n",
    "plt.plot(actual_prices, color='black', label=f\"actual price\")\n",
    "plt.plot(predicted_prices, color= 'green', label=f\"predicted price\")\n",
    "plt.title(f\"Lstm walk1\")\n",
    "plt.xlabel(\"day\")\n",
    "plt.ylabel(f\"price\")\n",
    "plt.legend()\n",
    "plt.show()"
   ]
  },
  {
   "cell_type": "code",
   "execution_count": 24,
   "id": "supreme-marina",
   "metadata": {
    "execution": {
     "iopub.execute_input": "2021-05-13T02:40:44.571944Z",
     "iopub.status.busy": "2021-05-13T02:40:44.571163Z",
     "iopub.status.idle": "2021-05-13T02:40:44.575594Z",
     "shell.execute_reply": "2021-05-13T02:40:44.576096Z"
    },
    "papermill": {
     "duration": 0.107523,
     "end_time": "2021-05-13T02:40:44.576322",
     "exception": false,
     "start_time": "2021-05-13T02:40:44.468799",
     "status": "completed"
    },
    "tags": []
   },
   "outputs": [
    {
     "name": "stdout",
     "output_type": "stream",
     "text": [
      "(1, 0, 1)\n"
     ]
    }
   ],
   "source": [
    "real_data = [model_inputs[len(model_inputs)+1-prediction_days:len(model_inputs+1),0]]\n",
    "real_data = np.array(real_data)\n",
    "real_data = np.reshape(real_data,(real_data.shape[0],real_data.shape[1],1))\n",
    "print(real_data.shape)"
   ]
  },
  {
   "cell_type": "code",
   "execution_count": 25,
   "id": "f8503aea",
   "metadata": {},
   "outputs": [
    {
     "data": {
      "text/plain": [
       "'prediction = model.predict(real_data)\\nprediction = scaler.inverse_transform(prediction)\\nprint(f\"prediction: {prediction}\")'"
      ]
     },
     "execution_count": 25,
     "metadata": {},
     "output_type": "execute_result"
    }
   ],
   "source": [
    "\"\"\"prediction = model.predict(real_data)\n",
    "prediction = scaler.inverse_transform(prediction)\n",
    "print(f\"prediction: {prediction}\")\"\"\""
   ]
  },
  {
   "cell_type": "markdown",
   "id": "3ef0d064",
   "metadata": {},
   "source": [
    "# train walk forward 2 "
   ]
  },
  {
   "cell_type": "code",
   "execution_count": 26,
   "id": "08471e4d",
   "metadata": {},
   "outputs": [
    {
     "data": {
      "text/html": [
       "<div>\n",
       "<style scoped>\n",
       "    .dataframe tbody tr th:only-of-type {\n",
       "        vertical-align: middle;\n",
       "    }\n",
       "\n",
       "    .dataframe tbody tr th {\n",
       "        vertical-align: top;\n",
       "    }\n",
       "\n",
       "    .dataframe thead th {\n",
       "        text-align: right;\n",
       "    }\n",
       "</style>\n",
       "<table border=\"1\" class=\"dataframe\">\n",
       "  <thead>\n",
       "    <tr style=\"text-align: right;\">\n",
       "      <th></th>\n",
       "      <th>Local_Institutes_sell</th>\n",
       "      <th>Proprietary_Trading_sell</th>\n",
       "      <th>Foreign_Investors_net</th>\n",
       "      <th>Unnamed: 11</th>\n",
       "      <th>Open</th>\n",
       "      <th>Low</th>\n",
       "      <th>Close</th>\n",
       "      <th>Volume</th>\n",
       "      <th>Gold_Low</th>\n",
       "      <th>Gold_Open</th>\n",
       "      <th>Gold_Volume</th>\n",
       "      <th>Dji_Open</th>\n",
       "      <th>Dji_Volume</th>\n",
       "      <th>Aroon_Oscillator</th>\n",
       "      <th>Stoch_Oscillator</th>\n",
       "    </tr>\n",
       "  </thead>\n",
       "  <tbody>\n",
       "    <tr>\n",
       "      <th>328</th>\n",
       "      <td>3614.055196</td>\n",
       "      <td>6036.990413</td>\n",
       "      <td>669.924446</td>\n",
       "      <td>11390.571490</td>\n",
       "      <td>1626.890015</td>\n",
       "      <td>1622.939941</td>\n",
       "      <td>1632.319946</td>\n",
       "      <td>13043300.0</td>\n",
       "      <td>1314.300049</td>\n",
       "      <td>1315.599976</td>\n",
       "      <td>1.0</td>\n",
       "      <td>1315.599976</td>\n",
       "      <td>1.0</td>\n",
       "      <td>-60.0</td>\n",
       "      <td>57.113494</td>\n",
       "    </tr>\n",
       "    <tr>\n",
       "      <th>329</th>\n",
       "      <td>3141.324977</td>\n",
       "      <td>5395.165019</td>\n",
       "      <td>-2254.965527</td>\n",
       "      <td>11925.679850</td>\n",
       "      <td>1632.270020</td>\n",
       "      <td>1624.260010</td>\n",
       "      <td>1629.400024</td>\n",
       "      <td>14081000.0</td>\n",
       "      <td>1309.900024</td>\n",
       "      <td>1309.900024</td>\n",
       "      <td>206263.0</td>\n",
       "      <td>1309.900024</td>\n",
       "      <td>206263.0</td>\n",
       "      <td>-60.0</td>\n",
       "      <td>48.548152</td>\n",
       "    </tr>\n",
       "    <tr>\n",
       "      <th>330</th>\n",
       "      <td>3375.427948</td>\n",
       "      <td>7827.190303</td>\n",
       "      <td>64.984121</td>\n",
       "      <td>16038.136200</td>\n",
       "      <td>1626.599976</td>\n",
       "      <td>1625.770020</td>\n",
       "      <td>1634.250000</td>\n",
       "      <td>15464800.0</td>\n",
       "      <td>1287.699951</td>\n",
       "      <td>1308.400024</td>\n",
       "      <td>87798.0</td>\n",
       "      <td>1308.400024</td>\n",
       "      <td>87798.0</td>\n",
       "      <td>-60.0</td>\n",
       "      <td>62.775142</td>\n",
       "    </tr>\n",
       "    <tr>\n",
       "      <th>331</th>\n",
       "      <td>4100.527413</td>\n",
       "      <td>4768.572117</td>\n",
       "      <td>1326.321353</td>\n",
       "      <td>13106.247680</td>\n",
       "      <td>1639.310059</td>\n",
       "      <td>1635.239990</td>\n",
       "      <td>1638.650024</td>\n",
       "      <td>11081100.0</td>\n",
       "      <td>1286.099976</td>\n",
       "      <td>1289.599976</td>\n",
       "      <td>1265.0</td>\n",
       "      <td>1289.599976</td>\n",
       "      <td>1265.0</td>\n",
       "      <td>-60.0</td>\n",
       "      <td>75.682237</td>\n",
       "    </tr>\n",
       "    <tr>\n",
       "      <th>332</th>\n",
       "      <td>3636.917650</td>\n",
       "      <td>5313.823436</td>\n",
       "      <td>-193.953739</td>\n",
       "      <td>15827.016360</td>\n",
       "      <td>1645.369995</td>\n",
       "      <td>1644.219971</td>\n",
       "      <td>1644.640015</td>\n",
       "      <td>11050600.0</td>\n",
       "      <td>1285.699951</td>\n",
       "      <td>1291.800049</td>\n",
       "      <td>675.0</td>\n",
       "      <td>1291.800049</td>\n",
       "      <td>675.0</td>\n",
       "      <td>-60.0</td>\n",
       "      <td>83.024306</td>\n",
       "    </tr>\n",
       "    <tr>\n",
       "      <th>...</th>\n",
       "      <td>...</td>\n",
       "      <td>...</td>\n",
       "      <td>...</td>\n",
       "      <td>...</td>\n",
       "      <td>...</td>\n",
       "      <td>...</td>\n",
       "      <td>...</td>\n",
       "      <td>...</td>\n",
       "      <td>...</td>\n",
       "      <td>...</td>\n",
       "      <td>...</td>\n",
       "      <td>...</td>\n",
       "      <td>...</td>\n",
       "      <td>...</td>\n",
       "      <td>...</td>\n",
       "    </tr>\n",
       "    <tr>\n",
       "      <th>1323</th>\n",
       "      <td>3407.592795</td>\n",
       "      <td>3343.404306</td>\n",
       "      <td>-1089.141440</td>\n",
       "      <td>12428.801010</td>\n",
       "      <td>1512.930054</td>\n",
       "      <td>1506.359985</td>\n",
       "      <td>1508.869995</td>\n",
       "      <td>3168000.0</td>\n",
       "      <td>1914.699951</td>\n",
       "      <td>1923.500000</td>\n",
       "      <td>193.0</td>\n",
       "      <td>1923.500000</td>\n",
       "      <td>193.0</td>\n",
       "      <td>-40.0</td>\n",
       "      <td>43.868949</td>\n",
       "    </tr>\n",
       "    <tr>\n",
       "      <th>1324</th>\n",
       "      <td>4600.171755</td>\n",
       "      <td>3083.080622</td>\n",
       "      <td>-3164.838616</td>\n",
       "      <td>13016.360410</td>\n",
       "      <td>1503.380005</td>\n",
       "      <td>1486.489990</td>\n",
       "      <td>1490.459961</td>\n",
       "      <td>3033900.0</td>\n",
       "      <td>1903.199951</td>\n",
       "      <td>1909.300049</td>\n",
       "      <td>81.0</td>\n",
       "      <td>1909.300049</td>\n",
       "      <td>81.0</td>\n",
       "      <td>-40.0</td>\n",
       "      <td>27.124840</td>\n",
       "    </tr>\n",
       "    <tr>\n",
       "      <th>1325</th>\n",
       "      <td>3601.454457</td>\n",
       "      <td>3339.661823</td>\n",
       "      <td>-1503.506715</td>\n",
       "      <td>9200.234316</td>\n",
       "      <td>1481.910034</td>\n",
       "      <td>1474.939941</td>\n",
       "      <td>1490.510010</td>\n",
       "      <td>2226700.0</td>\n",
       "      <td>1913.400024</td>\n",
       "      <td>1913.400024</td>\n",
       "      <td>61.0</td>\n",
       "      <td>1913.400024</td>\n",
       "      <td>61.0</td>\n",
       "      <td>-40.0</td>\n",
       "      <td>27.171896</td>\n",
       "    </tr>\n",
       "    <tr>\n",
       "      <th>1326</th>\n",
       "      <td>2120.590418</td>\n",
       "      <td>3171.581330</td>\n",
       "      <td>-193.426256</td>\n",
       "      <td>9463.683273</td>\n",
       "      <td>1493.209961</td>\n",
       "      <td>1482.209961</td>\n",
       "      <td>1496.890015</td>\n",
       "      <td>2306200.0</td>\n",
       "      <td>1912.300049</td>\n",
       "      <td>1923.599976</td>\n",
       "      <td>269.0</td>\n",
       "      <td>1923.599976</td>\n",
       "      <td>269.0</td>\n",
       "      <td>-40.0</td>\n",
       "      <td>39.707416</td>\n",
       "    </tr>\n",
       "    <tr>\n",
       "      <th>1327</th>\n",
       "      <td>2772.956633</td>\n",
       "      <td>2886.782748</td>\n",
       "      <td>-443.542285</td>\n",
       "      <td>9868.923331</td>\n",
       "      <td>1503.060059</td>\n",
       "      <td>1492.630005</td>\n",
       "      <td>1496.959961</td>\n",
       "      <td>2683400.0</td>\n",
       "      <td>1924.199951</td>\n",
       "      <td>1925.000000</td>\n",
       "      <td>142.0</td>\n",
       "      <td>1925.000000</td>\n",
       "      <td>142.0</td>\n",
       "      <td>-40.0</td>\n",
       "      <td>48.345156</td>\n",
       "    </tr>\n",
       "  </tbody>\n",
       "</table>\n",
       "<p>1000 rows × 15 columns</p>\n",
       "</div>"
      ],
      "text/plain": [
       "      Local_Institutes_sell  Proprietary_Trading_sell  Foreign_Investors_net  \\\n",
       "328             3614.055196               6036.990413             669.924446   \n",
       "329             3141.324977               5395.165019           -2254.965527   \n",
       "330             3375.427948               7827.190303              64.984121   \n",
       "331             4100.527413               4768.572117            1326.321353   \n",
       "332             3636.917650               5313.823436            -193.953739   \n",
       "...                     ...                       ...                    ...   \n",
       "1323            3407.592795               3343.404306           -1089.141440   \n",
       "1324            4600.171755               3083.080622           -3164.838616   \n",
       "1325            3601.454457               3339.661823           -1503.506715   \n",
       "1326            2120.590418               3171.581330            -193.426256   \n",
       "1327            2772.956633               2886.782748            -443.542285   \n",
       "\n",
       "       Unnamed: 11         Open          Low        Close      Volume  \\\n",
       "328   11390.571490  1626.890015  1622.939941  1632.319946  13043300.0   \n",
       "329   11925.679850  1632.270020  1624.260010  1629.400024  14081000.0   \n",
       "330   16038.136200  1626.599976  1625.770020  1634.250000  15464800.0   \n",
       "331   13106.247680  1639.310059  1635.239990  1638.650024  11081100.0   \n",
       "332   15827.016360  1645.369995  1644.219971  1644.640015  11050600.0   \n",
       "...            ...          ...          ...          ...         ...   \n",
       "1323  12428.801010  1512.930054  1506.359985  1508.869995   3168000.0   \n",
       "1324  13016.360410  1503.380005  1486.489990  1490.459961   3033900.0   \n",
       "1325   9200.234316  1481.910034  1474.939941  1490.510010   2226700.0   \n",
       "1326   9463.683273  1493.209961  1482.209961  1496.890015   2306200.0   \n",
       "1327   9868.923331  1503.060059  1492.630005  1496.959961   2683400.0   \n",
       "\n",
       "         Gold_Low    Gold_Open  Gold_Volume     Dji_Open  Dji_Volume  \\\n",
       "328   1314.300049  1315.599976          1.0  1315.599976         1.0   \n",
       "329   1309.900024  1309.900024     206263.0  1309.900024    206263.0   \n",
       "330   1287.699951  1308.400024      87798.0  1308.400024     87798.0   \n",
       "331   1286.099976  1289.599976       1265.0  1289.599976      1265.0   \n",
       "332   1285.699951  1291.800049        675.0  1291.800049       675.0   \n",
       "...           ...          ...          ...          ...         ...   \n",
       "1323  1914.699951  1923.500000        193.0  1923.500000       193.0   \n",
       "1324  1903.199951  1909.300049         81.0  1909.300049        81.0   \n",
       "1325  1913.400024  1913.400024         61.0  1913.400024        61.0   \n",
       "1326  1912.300049  1923.599976        269.0  1923.599976       269.0   \n",
       "1327  1924.199951  1925.000000        142.0  1925.000000       142.0   \n",
       "\n",
       "      Aroon_Oscillator  Stoch_Oscillator  \n",
       "328              -60.0         57.113494  \n",
       "329              -60.0         48.548152  \n",
       "330              -60.0         62.775142  \n",
       "331              -60.0         75.682237  \n",
       "332              -60.0         83.024306  \n",
       "...                ...               ...  \n",
       "1323             -40.0         43.868949  \n",
       "1324             -40.0         27.124840  \n",
       "1325             -40.0         27.171896  \n",
       "1326             -40.0         39.707416  \n",
       "1327             -40.0         48.345156  \n",
       "\n",
       "[1000 rows x 15 columns]"
      ]
     },
     "execution_count": 26,
     "metadata": {},
     "output_type": "execute_result"
    }
   ],
   "source": [
    "X_train2"
   ]
  },
  {
   "cell_type": "code",
   "execution_count": 27,
   "id": "dd396023",
   "metadata": {},
   "outputs": [],
   "source": [
    "data=X_train2[0:807]\n",
    "test_data=X_train2[807:1328]\n",
    "#split train and test"
   ]
  },
  {
   "cell_type": "code",
   "execution_count": 28,
   "id": "f8373635",
   "metadata": {},
   "outputs": [
    {
     "name": "stdout",
     "output_type": "stream",
     "text": [
      "(807, 15)\n",
      "(193, 15)\n"
     ]
    }
   ],
   "source": [
    "print(data.shape)\n",
    "print(test_data.shape)"
   ]
  },
  {
   "cell_type": "code",
   "execution_count": 29,
   "id": "ca031d78",
   "metadata": {},
   "outputs": [],
   "source": [
    "scaler = MinMaxScaler(feature_range=(0,1))\n",
    "scaled_data = scaler.fit_transform(data['Close'].values.reshape(-1,1))"
   ]
  },
  {
   "cell_type": "code",
   "execution_count": 30,
   "id": "5777e3e7",
   "metadata": {},
   "outputs": [
    {
     "data": {
      "text/plain": [
       "(807, 1)"
      ]
     },
     "execution_count": 30,
     "metadata": {},
     "output_type": "execute_result"
    }
   ],
   "source": [
    "scaled_data.shape"
   ]
  },
  {
   "cell_type": "code",
   "execution_count": 31,
   "id": "719a0b75",
   "metadata": {},
   "outputs": [],
   "source": [
    "def LSTM_model():\n",
    "    \n",
    "    model = Sequential()    \n",
    "    model.add(LSTM(units = 32, return_sequences = True, input_shape = (x_train.shape[1],1)))\n",
    "    model.add(Dropout(0.2))\n",
    "    model.add(LSTM(units = 64, return_sequences = True))\n",
    "    model.add(Dropout(0.2))\n",
    "    model.add(LSTM(units = 64))\n",
    "    model.add(Dropout(0.2))\n",
    "    model.add(Dense(units=1))\n",
    "    \n",
    "    return model"
   ]
  },
  {
   "cell_type": "code",
   "execution_count": 32,
   "id": "6ffa48ee",
   "metadata": {},
   "outputs": [],
   "source": [
    "prediction_days = 1\n",
    "\n",
    "x_train = []\n",
    "y_train = []\n",
    "\n",
    "for x in range(prediction_days, len(scaled_data)):\n",
    "    x_train.append(scaled_data[x - prediction_days:x, 0])\n",
    "    y_train.append(scaled_data[x, 0])\n",
    "    \n",
    "x_train, y_train = np.array(x_train), np.array(y_train)\n",
    "x_train = np.reshape(x_train, (x_train.shape[0], x_train.shape[1], 1))"
   ]
  },
  {
   "cell_type": "code",
   "execution_count": 33,
   "id": "4aece942",
   "metadata": {},
   "outputs": [
    {
     "name": "stdout",
     "output_type": "stream",
     "text": [
      "(806, 1, 1)\n"
     ]
    }
   ],
   "source": [
    "print(x_train.shape)"
   ]
  },
  {
   "cell_type": "code",
   "execution_count": 34,
   "id": "4073593f",
   "metadata": {},
   "outputs": [
    {
     "name": "stderr",
     "output_type": "stream",
     "text": [
      "c:\\Users\\Nattapong\\AppData\\Local\\Programs\\Python\\Python312\\Lib\\site-packages\\keras\\src\\layers\\rnn\\rnn.py:204: UserWarning: Do not pass an `input_shape`/`input_dim` argument to a layer. When using Sequential models, prefer using an `Input(shape)` object as the first layer in the model instead.\n",
      "  super().__init__(**kwargs)\n"
     ]
    },
    {
     "data": {
      "text/html": [
       "<pre style=\"white-space:pre;overflow-x:auto;line-height:normal;font-family:Menlo,'DejaVu Sans Mono',consolas,'Courier New',monospace\"><span style=\"font-weight: bold\">Model: \"sequential_1\"</span>\n",
       "</pre>\n"
      ],
      "text/plain": [
       "\u001b[1mModel: \"sequential_1\"\u001b[0m\n"
      ]
     },
     "metadata": {},
     "output_type": "display_data"
    },
    {
     "data": {
      "text/html": [
       "<pre style=\"white-space:pre;overflow-x:auto;line-height:normal;font-family:Menlo,'DejaVu Sans Mono',consolas,'Courier New',monospace\">┏━━━━━━━━━━━━━━━━━━━━━━━━━━━━━━━━━┳━━━━━━━━━━━━━━━━━━━━━━━━┳━━━━━━━━━━━━━━━┓\n",
       "┃<span style=\"font-weight: bold\"> Layer (type)                    </span>┃<span style=\"font-weight: bold\"> Output Shape           </span>┃<span style=\"font-weight: bold\">       Param # </span>┃\n",
       "┡━━━━━━━━━━━━━━━━━━━━━━━━━━━━━━━━━╇━━━━━━━━━━━━━━━━━━━━━━━━╇━━━━━━━━━━━━━━━┩\n",
       "│ lstm_3 (<span style=\"color: #0087ff; text-decoration-color: #0087ff\">LSTM</span>)                   │ (<span style=\"color: #00d7ff; text-decoration-color: #00d7ff\">None</span>, <span style=\"color: #00af00; text-decoration-color: #00af00\">1</span>, <span style=\"color: #00af00; text-decoration-color: #00af00\">32</span>)          │         <span style=\"color: #00af00; text-decoration-color: #00af00\">4,352</span> │\n",
       "├─────────────────────────────────┼────────────────────────┼───────────────┤\n",
       "│ dropout_3 (<span style=\"color: #0087ff; text-decoration-color: #0087ff\">Dropout</span>)             │ (<span style=\"color: #00d7ff; text-decoration-color: #00d7ff\">None</span>, <span style=\"color: #00af00; text-decoration-color: #00af00\">1</span>, <span style=\"color: #00af00; text-decoration-color: #00af00\">32</span>)          │             <span style=\"color: #00af00; text-decoration-color: #00af00\">0</span> │\n",
       "├─────────────────────────────────┼────────────────────────┼───────────────┤\n",
       "│ lstm_4 (<span style=\"color: #0087ff; text-decoration-color: #0087ff\">LSTM</span>)                   │ (<span style=\"color: #00d7ff; text-decoration-color: #00d7ff\">None</span>, <span style=\"color: #00af00; text-decoration-color: #00af00\">1</span>, <span style=\"color: #00af00; text-decoration-color: #00af00\">64</span>)          │        <span style=\"color: #00af00; text-decoration-color: #00af00\">24,832</span> │\n",
       "├─────────────────────────────────┼────────────────────────┼───────────────┤\n",
       "│ dropout_4 (<span style=\"color: #0087ff; text-decoration-color: #0087ff\">Dropout</span>)             │ (<span style=\"color: #00d7ff; text-decoration-color: #00d7ff\">None</span>, <span style=\"color: #00af00; text-decoration-color: #00af00\">1</span>, <span style=\"color: #00af00; text-decoration-color: #00af00\">64</span>)          │             <span style=\"color: #00af00; text-decoration-color: #00af00\">0</span> │\n",
       "├─────────────────────────────────┼────────────────────────┼───────────────┤\n",
       "│ lstm_5 (<span style=\"color: #0087ff; text-decoration-color: #0087ff\">LSTM</span>)                   │ (<span style=\"color: #00d7ff; text-decoration-color: #00d7ff\">None</span>, <span style=\"color: #00af00; text-decoration-color: #00af00\">64</span>)             │        <span style=\"color: #00af00; text-decoration-color: #00af00\">33,024</span> │\n",
       "├─────────────────────────────────┼────────────────────────┼───────────────┤\n",
       "│ dropout_5 (<span style=\"color: #0087ff; text-decoration-color: #0087ff\">Dropout</span>)             │ (<span style=\"color: #00d7ff; text-decoration-color: #00d7ff\">None</span>, <span style=\"color: #00af00; text-decoration-color: #00af00\">64</span>)             │             <span style=\"color: #00af00; text-decoration-color: #00af00\">0</span> │\n",
       "├─────────────────────────────────┼────────────────────────┼───────────────┤\n",
       "│ dense_1 (<span style=\"color: #0087ff; text-decoration-color: #0087ff\">Dense</span>)                 │ (<span style=\"color: #00d7ff; text-decoration-color: #00d7ff\">None</span>, <span style=\"color: #00af00; text-decoration-color: #00af00\">1</span>)              │            <span style=\"color: #00af00; text-decoration-color: #00af00\">65</span> │\n",
       "└─────────────────────────────────┴────────────────────────┴───────────────┘\n",
       "</pre>\n"
      ],
      "text/plain": [
       "┏━━━━━━━━━━━━━━━━━━━━━━━━━━━━━━━━━┳━━━━━━━━━━━━━━━━━━━━━━━━┳━━━━━━━━━━━━━━━┓\n",
       "┃\u001b[1m \u001b[0m\u001b[1mLayer (type)                   \u001b[0m\u001b[1m \u001b[0m┃\u001b[1m \u001b[0m\u001b[1mOutput Shape          \u001b[0m\u001b[1m \u001b[0m┃\u001b[1m \u001b[0m\u001b[1m      Param #\u001b[0m\u001b[1m \u001b[0m┃\n",
       "┡━━━━━━━━━━━━━━━━━━━━━━━━━━━━━━━━━╇━━━━━━━━━━━━━━━━━━━━━━━━╇━━━━━━━━━━━━━━━┩\n",
       "│ lstm_3 (\u001b[38;5;33mLSTM\u001b[0m)                   │ (\u001b[38;5;45mNone\u001b[0m, \u001b[38;5;34m1\u001b[0m, \u001b[38;5;34m32\u001b[0m)          │         \u001b[38;5;34m4,352\u001b[0m │\n",
       "├─────────────────────────────────┼────────────────────────┼───────────────┤\n",
       "│ dropout_3 (\u001b[38;5;33mDropout\u001b[0m)             │ (\u001b[38;5;45mNone\u001b[0m, \u001b[38;5;34m1\u001b[0m, \u001b[38;5;34m32\u001b[0m)          │             \u001b[38;5;34m0\u001b[0m │\n",
       "├─────────────────────────────────┼────────────────────────┼───────────────┤\n",
       "│ lstm_4 (\u001b[38;5;33mLSTM\u001b[0m)                   │ (\u001b[38;5;45mNone\u001b[0m, \u001b[38;5;34m1\u001b[0m, \u001b[38;5;34m64\u001b[0m)          │        \u001b[38;5;34m24,832\u001b[0m │\n",
       "├─────────────────────────────────┼────────────────────────┼───────────────┤\n",
       "│ dropout_4 (\u001b[38;5;33mDropout\u001b[0m)             │ (\u001b[38;5;45mNone\u001b[0m, \u001b[38;5;34m1\u001b[0m, \u001b[38;5;34m64\u001b[0m)          │             \u001b[38;5;34m0\u001b[0m │\n",
       "├─────────────────────────────────┼────────────────────────┼───────────────┤\n",
       "│ lstm_5 (\u001b[38;5;33mLSTM\u001b[0m)                   │ (\u001b[38;5;45mNone\u001b[0m, \u001b[38;5;34m64\u001b[0m)             │        \u001b[38;5;34m33,024\u001b[0m │\n",
       "├─────────────────────────────────┼────────────────────────┼───────────────┤\n",
       "│ dropout_5 (\u001b[38;5;33mDropout\u001b[0m)             │ (\u001b[38;5;45mNone\u001b[0m, \u001b[38;5;34m64\u001b[0m)             │             \u001b[38;5;34m0\u001b[0m │\n",
       "├─────────────────────────────────┼────────────────────────┼───────────────┤\n",
       "│ dense_1 (\u001b[38;5;33mDense\u001b[0m)                 │ (\u001b[38;5;45mNone\u001b[0m, \u001b[38;5;34m1\u001b[0m)              │            \u001b[38;5;34m65\u001b[0m │\n",
       "└─────────────────────────────────┴────────────────────────┴───────────────┘\n"
      ]
     },
     "metadata": {},
     "output_type": "display_data"
    },
    {
     "data": {
      "text/html": [
       "<pre style=\"white-space:pre;overflow-x:auto;line-height:normal;font-family:Menlo,'DejaVu Sans Mono',consolas,'Courier New',monospace\"><span style=\"font-weight: bold\"> Total params: </span><span style=\"color: #00af00; text-decoration-color: #00af00\">62,273</span> (243.25 KB)\n",
       "</pre>\n"
      ],
      "text/plain": [
       "\u001b[1m Total params: \u001b[0m\u001b[38;5;34m62,273\u001b[0m (243.25 KB)\n"
      ]
     },
     "metadata": {},
     "output_type": "display_data"
    },
    {
     "data": {
      "text/html": [
       "<pre style=\"white-space:pre;overflow-x:auto;line-height:normal;font-family:Menlo,'DejaVu Sans Mono',consolas,'Courier New',monospace\"><span style=\"font-weight: bold\"> Trainable params: </span><span style=\"color: #00af00; text-decoration-color: #00af00\">62,273</span> (243.25 KB)\n",
       "</pre>\n"
      ],
      "text/plain": [
       "\u001b[1m Trainable params: \u001b[0m\u001b[38;5;34m62,273\u001b[0m (243.25 KB)\n"
      ]
     },
     "metadata": {},
     "output_type": "display_data"
    },
    {
     "data": {
      "text/html": [
       "<pre style=\"white-space:pre;overflow-x:auto;line-height:normal;font-family:Menlo,'DejaVu Sans Mono',consolas,'Courier New',monospace\"><span style=\"font-weight: bold\"> Non-trainable params: </span><span style=\"color: #00af00; text-decoration-color: #00af00\">0</span> (0.00 B)\n",
       "</pre>\n"
      ],
      "text/plain": [
       "\u001b[1m Non-trainable params: \u001b[0m\u001b[38;5;34m0\u001b[0m (0.00 B)\n"
      ]
     },
     "metadata": {},
     "output_type": "display_data"
    }
   ],
   "source": [
    "model = LSTM_model()\n",
    "model.summary()\n",
    "model.compile(optimizer='adam', loss='mean_squared_error')"
   ]
  },
  {
   "cell_type": "code",
   "execution_count": 35,
   "id": "90e0cf7b",
   "metadata": {},
   "outputs": [
    {
     "name": "stdout",
     "output_type": "stream",
     "text": [
      "Epoch 1/50\n"
     ]
    },
    {
     "name": "stdout",
     "output_type": "stream",
     "text": [
      "23/23 - 6s - 245ms/step - loss: 0.4660\n",
      "Epoch 2/50\n",
      "23/23 - 0s - 4ms/step - loss: 0.1828\n",
      "Epoch 3/50\n",
      "23/23 - 0s - 3ms/step - loss: 0.0284\n",
      "Epoch 4/50\n",
      "23/23 - 0s - 3ms/step - loss: 0.0233\n",
      "Epoch 5/50\n",
      "23/23 - 0s - 3ms/step - loss: 0.0201\n",
      "Epoch 6/50\n",
      "23/23 - 0s - 3ms/step - loss: 0.0176\n",
      "Epoch 7/50\n",
      "23/23 - 0s - 3ms/step - loss: 0.0163\n",
      "Epoch 8/50\n",
      "23/23 - 0s - 4ms/step - loss: 0.0146\n",
      "Epoch 9/50\n",
      "23/23 - 0s - 3ms/step - loss: 0.0125\n",
      "Epoch 10/50\n",
      "23/23 - 0s - 4ms/step - loss: 0.0124\n",
      "Epoch 11/50\n",
      "23/23 - 0s - 3ms/step - loss: 0.0111\n",
      "Epoch 12/50\n",
      "23/23 - 0s - 3ms/step - loss: 0.0100\n",
      "Epoch 13/50\n",
      "23/23 - 0s - 4ms/step - loss: 0.0098\n",
      "Epoch 14/50\n",
      "23/23 - 0s - 4ms/step - loss: 0.0087\n",
      "Epoch 15/50\n",
      "23/23 - 0s - 4ms/step - loss: 0.0086\n",
      "Epoch 16/50\n",
      "23/23 - 0s - 4ms/step - loss: 0.0082\n",
      "Epoch 17/50\n",
      "23/23 - 0s - 10ms/step - loss: 0.0083\n",
      "Epoch 18/50\n",
      "23/23 - 0s - 8ms/step - loss: 0.0082\n",
      "Epoch 19/50\n",
      "23/23 - 0s - 4ms/step - loss: 0.0068\n",
      "Epoch 20/50\n",
      "23/23 - 0s - 3ms/step - loss: 0.0066\n",
      "Epoch 21/50\n",
      "23/23 - 0s - 3ms/step - loss: 0.0078\n",
      "Epoch 22/50\n",
      "23/23 - 0s - 3ms/step - loss: 0.0065\n",
      "Epoch 23/50\n",
      "23/23 - 0s - 4ms/step - loss: 0.0071\n",
      "Epoch 24/50\n",
      "23/23 - 0s - 4ms/step - loss: 0.0064\n",
      "Epoch 25/50\n",
      "23/23 - 0s - 3ms/step - loss: 0.0063\n",
      "Epoch 26/50\n",
      "23/23 - 0s - 3ms/step - loss: 0.0058\n",
      "Epoch 27/50\n",
      "23/23 - 0s - 3ms/step - loss: 0.0064\n",
      "Epoch 28/50\n",
      "23/23 - 0s - 3ms/step - loss: 0.0060\n",
      "Epoch 29/50\n",
      "23/23 - 0s - 4ms/step - loss: 0.0059\n",
      "Epoch 30/50\n",
      "23/23 - 0s - 3ms/step - loss: 0.0054\n",
      "Epoch 31/50\n",
      "23/23 - 0s - 4ms/step - loss: 0.0057\n",
      "Epoch 32/50\n",
      "23/23 - 0s - 3ms/step - loss: 0.0054\n",
      "Epoch 33/50\n",
      "23/23 - 0s - 4ms/step - loss: 0.0056\n",
      "Epoch 34/50\n",
      "23/23 - 0s - 6ms/step - loss: 0.0054\n",
      "Epoch 35/50\n",
      "23/23 - 0s - 6ms/step - loss: 0.0045\n",
      "Epoch 36/50\n",
      "23/23 - 0s - 4ms/step - loss: 0.0049\n",
      "Epoch 37/50\n",
      "23/23 - 0s - 5ms/step - loss: 0.0049\n",
      "Epoch 38/50\n",
      "23/23 - 0s - 4ms/step - loss: 0.0045\n",
      "Epoch 39/50\n",
      "23/23 - 0s - 4ms/step - loss: 0.0042\n",
      "Epoch 40/50\n",
      "23/23 - 0s - 4ms/step - loss: 0.0045\n",
      "Epoch 41/50\n",
      "23/23 - 0s - 4ms/step - loss: 0.0042\n",
      "Epoch 42/50\n",
      "23/23 - 0s - 4ms/step - loss: 0.0042\n",
      "Epoch 43/50\n",
      "23/23 - 0s - 4ms/step - loss: 0.0043\n",
      "Epoch 44/50\n",
      "23/23 - 0s - 4ms/step - loss: 0.0040\n",
      "Epoch 45/50\n",
      "23/23 - 0s - 3ms/step - loss: 0.0041\n",
      "Epoch 46/50\n",
      "23/23 - 0s - 4ms/step - loss: 0.0041\n",
      "Epoch 47/50\n",
      "23/23 - 0s - 6ms/step - loss: 0.0040\n",
      "Epoch 48/50\n",
      "23/23 - 0s - 4ms/step - loss: 0.0041\n",
      "Epoch 49/50\n",
      "23/23 - 0s - 4ms/step - loss: 0.0037\n",
      "Epoch 50/50\n",
      "23/23 - 0s - 3ms/step - loss: 0.0033\n"
     ]
    },
    {
     "data": {
      "text/plain": [
       "<keras.src.callbacks.history.History at 0x11e6303e420>"
      ]
     },
     "execution_count": 35,
     "metadata": {},
     "output_type": "execute_result"
    }
   ],
   "source": [
    "model.fit(x_train, y_train, epochs=50, batch_size = 36,verbose = 2)"
   ]
  },
  {
   "cell_type": "code",
   "execution_count": 36,
   "id": "110e0d0f",
   "metadata": {},
   "outputs": [],
   "source": [
    "actual_prices = test_data['Close'].values\n",
    "total_dataset = X_train2['Close']\n",
    "\n",
    "model_inputs = total_dataset[len(total_dataset)-len(test_data)-prediction_days:].values\n",
    "model_inputs = model_inputs.reshape(-1,1)\n",
    "model_inputs = scaler.transform(model_inputs)"
   ]
  },
  {
   "cell_type": "code",
   "execution_count": 37,
   "id": "2a89c7e8",
   "metadata": {},
   "outputs": [
    {
     "data": {
      "text/plain": [
       "(194, 1)"
      ]
     },
     "execution_count": 37,
     "metadata": {},
     "output_type": "execute_result"
    }
   ],
   "source": [
    "model_inputs.shape"
   ]
  },
  {
   "cell_type": "code",
   "execution_count": 38,
   "id": "473f6d84",
   "metadata": {},
   "outputs": [
    {
     "name": "stdout",
     "output_type": "stream",
     "text": [
      "\u001b[1m7/7\u001b[0m \u001b[32m━━━━━━━━━━━━━━━━━━━━\u001b[0m\u001b[37m\u001b[0m \u001b[1m1s\u001b[0m 86ms/step\n"
     ]
    }
   ],
   "source": [
    "x_test = []\n",
    "for x in range(prediction_days,len(model_inputs)):\n",
    "    x_test.append(model_inputs[x-prediction_days:x,0])\n",
    "\n",
    "x_test = np.array(x_test)\n",
    "x_test = np.reshape(x_test,(x_test.shape[0],x_test.shape[1],1))\n",
    "\n",
    "predicted_prices = model.predict(x_test)\n",
    "predicted_prices = scaler.inverse_transform(predicted_prices)"
   ]
  },
  {
   "cell_type": "code",
   "execution_count": 39,
   "id": "438809e2",
   "metadata": {},
   "outputs": [
    {
     "name": "stdout",
     "output_type": "stream",
     "text": [
      "MSE: 246.20613391285391\n",
      "MAPE:  3.8946682628984512 %\n"
     ]
    },
    {
     "data": {
      "image/png": "[encoded data removed]",
      "text/plain": [
       "<Figure size 640x480 with 1 Axes>"
      ]
     },
     "metadata": {},
     "output_type": "display_data"
    }
   ],
   "source": [
    "mse2 = (mean_squared_error(actual_prices, predicted_prices))\n",
    "\n",
    "\n",
    "print(f\"MSE: {mse2}\")\n",
    "\n",
    "\n",
    "MAPE_score2 = np.mean(np.abs((actual_prices - predicted_prices) / actual_prices)) * 100\n",
    "print('MAPE: ', MAPE_score2 , '%')\n",
    "\n",
    "\n",
    "LSTMpredictsecond = predicted_prices\n",
    "\n",
    "\n",
    "plt.plot(actual_prices, color='black', label=f\"actual price\")\n",
    "plt.plot(predicted_prices, color= 'green', label=f\"predicted price\")\n",
    "plt.title(f\"lstm walkforward 2 \")\n",
    "plt.xlabel(\"day\")\n",
    "plt.ylabel(f\"price\")\n",
    "plt.legend()\n",
    "plt.show()"
   ]
  },
  {
   "cell_type": "code",
   "execution_count": 40,
   "id": "5bc27b62",
   "metadata": {},
   "outputs": [
    {
     "name": "stdout",
     "output_type": "stream",
     "text": [
      "mse : 138.21027363679895 mse2 : 246.20613391285391\n",
      "mape : 2.9519035762090575 mape2 : 3.8946682628984512\n"
     ]
    }
   ],
   "source": [
    "print(f\"mse : {mse1} mse2 : {mse2}\")\n",
    "print(f\"mape : {MAPE_score1} mape2 : {MAPE_score2}\")"
   ]
  },
  {
   "cell_type": "code",
   "execution_count": 41,
   "id": "427171d0",
   "metadata": {},
   "outputs": [],
   "source": [
    "alllstmytest = np.concatenate([LSTMpredictsecond])"
   ]
  },
  {
   "cell_type": "code",
   "execution_count": 42,
   "id": "3dcdc2bf",
   "metadata": {},
   "outputs": [
    {
     "data": {
      "text/plain": [
       "(193, 1)"
      ]
     },
     "execution_count": 42,
     "metadata": {},
     "output_type": "execute_result"
    }
   ],
   "source": [
    "alllstmytest.shape"
   ]
  },
  {
   "cell_type": "code",
   "execution_count": 43,
   "id": "2a13bb0e",
   "metadata": {},
   "outputs": [
    {
     "ename": "NameError",
     "evalue": "name 'ALL_Y' is not defined",
     "output_type": "error",
     "traceback": [
      "\u001b[1;31m---------------------------------------------------------------------------\u001b[0m",
      "\u001b[1;31mNameError\u001b[0m                                 Traceback (most recent call last)",
      "Cell \u001b[1;32mIn[43], line 1\u001b[0m\n\u001b[1;32m----> 1\u001b[0m \u001b[43mALL_Y\u001b[49m\u001b[38;5;241m.\u001b[39mshape\n",
      "\u001b[1;31mNameError\u001b[0m: name 'ALL_Y' is not defined"
     ]
    }
   ],
   "source": [
    "ALL_Y.shape"
   ]
  },
  {
   "cell_type": "code",
   "execution_count": null,
   "id": "50d9533c",
   "metadata": {},
   "outputs": [],
   "source": [
    "yalltestdf = ALL_Y[664:]"
   ]
  },
  {
   "cell_type": "code",
   "execution_count": null,
   "id": "73fd2d52",
   "metadata": {},
   "outputs": [
    {
     "data": {
      "text/plain": [
       "664     1323.310059\n",
       "665     1310.660034\n",
       "666     1305.569946\n",
       "667     1315.880005\n",
       "668     1311.949951\n",
       "           ...     \n",
       "1324    1490.459961\n",
       "1325    1490.510010\n",
       "1326    1496.890015\n",
       "1327    1496.959961\n",
       "1328    1491.140015\n",
       "Name: Close, Length: 665, dtype: float64"
      ]
     },
     "execution_count": 46,
     "metadata": {},
     "output_type": "execute_result"
    }
   ],
   "source": [
    "yalltestdf"
   ]
  },
  {
   "cell_type": "code",
   "execution_count": null,
   "id": "6239eaae",
   "metadata": {},
   "outputs": [
    {
     "name": "stdout",
     "output_type": "stream",
     "text": [
      "           Close\n",
      "0    1628.072632\n",
      "1    1628.150757\n",
      "2    1642.377441\n",
      "3    1653.175293\n",
      "4    1648.662598\n",
      "..           ...\n",
      "188  1497.551270\n",
      "189  1499.549072\n",
      "190  1481.430542\n",
      "191  1481.479980\n",
      "192  1487.758545\n",
      "\n",
      "[193 rows x 1 columns]\n"
     ]
    }
   ],
   "source": [
    "df = pd.DataFrame(alllstmytest, columns=['Close'])\n",
    "\n",
    "print(df)"
   ]
  },
  {
   "cell_type": "code",
   "execution_count": null,
   "id": "8292f0b0",
   "metadata": {},
   "outputs": [],
   "source": [
    "d"
   ]
  },
  {
   "cell_type": "code",
   "execution_count": null,
   "id": "506a190d",
   "metadata": {},
   "outputs": [],
   "source": [
    "asd"
   ]
  },
  {
   "cell_type": "code",
   "execution_count": 44,
   "id": "4d91bd8f",
   "metadata": {},
   "outputs": [],
   "source": [
    "firstlstmtimeseries = np.concatenate([LSTMpredictfirst])"
   ]
  },
  {
   "cell_type": "code",
   "execution_count": 45,
   "id": "b20dfd86",
   "metadata": {},
   "outputs": [
    {
     "name": "stdout",
     "output_type": "stream",
     "text": [
      "           Close\n",
      "0    1518.555298\n",
      "1    1517.230713\n",
      "2    1508.681641\n",
      "3    1523.377319\n",
      "4    1515.209595\n",
      "..           ...\n",
      "188  1568.917114\n",
      "189  1591.089111\n",
      "190  1592.122314\n",
      "191  1588.460938\n",
      "192  1609.630005\n",
      "\n",
      "[193 rows x 1 columns]\n"
     ]
    }
   ],
   "source": [
    "flstm = pd.DataFrame(firstlstmtimeseries, columns=['Close'])\n",
    "\n",
    "print(flstm)"
   ]
  },
  {
   "cell_type": "code",
   "execution_count": 48,
   "id": "47681773",
   "metadata": {},
   "outputs": [],
   "source": [
    "flstm.to_csv('firsttestdata/Close-lstm.csv',index=False)"
   ]
  },
  {
   "cell_type": "code",
   "execution_count": null,
   "id": "d7a10ce0",
   "metadata": {},
   "outputs": [],
   "source": [
    "secondlstmtimeseries = np.concatenate([LSTMpredictsecond])"
   ]
  },
  {
   "cell_type": "code",
   "execution_count": null,
   "id": "12679f0c",
   "metadata": {},
   "outputs": [
    {
     "name": "stdout",
     "output_type": "stream",
     "text": [
      "           Close\n",
      "0    1638.463257\n",
      "1    1638.544312\n",
      "2    1653.389160\n",
      "3    1664.687378\n",
      "4    1659.962158\n",
      "..           ...\n",
      "188  1504.410156\n",
      "189  1506.433594\n",
      "190  1488.116455\n",
      "191  1488.166260\n",
      "192  1494.505737\n",
      "\n",
      "[193 rows x 1 columns]\n"
     ]
    }
   ],
   "source": [
    "slstm = pd.DataFrame(secondlstmtimeseries, columns=['Close'])\n",
    "\n",
    "print(slstm)"
   ]
  },
  {
   "cell_type": "code",
   "execution_count": null,
   "id": "014a71c1",
   "metadata": {},
   "outputs": [],
   "source": [
    "slstm.to_csv('slstm.csv',index=False)"
   ]
  },
  {
   "cell_type": "code",
   "execution_count": null,
   "id": "46eda1d3",
   "metadata": {},
   "outputs": [],
   "source": [
    "df.to_csv('lstm.csv',index=False)"
   ]
  },
  {
   "cell_type": "code",
   "execution_count": null,
   "id": "5b9b6190",
   "metadata": {},
   "outputs": [
    {
     "data": {
      "text/plain": [
       "(193, 1)"
      ]
     },
     "execution_count": 56,
     "metadata": {},
     "output_type": "execute_result"
    }
   ],
   "source": [
    "df.shape"
   ]
  },
  {
   "cell_type": "code",
   "execution_count": null,
   "id": "91e353b9",
   "metadata": {},
   "outputs": [],
   "source": []
  }
 ],
 "metadata": {
  "kernelspec": {
   "display_name": "Python 3",
   "language": "python",
   "name": "python3"
  },
  "language_info": {
   "codemirror_mode": {
    "name": "ipython",
    "version": 3
   },
   "file_extension": ".py",
   "mimetype": "text/x-python",
   "name": "python",
   "nbconvert_exporter": "python",
   "pygments_lexer": "ipython3",
   "version": "3.12.2"
  },
  "papermill": {
   "default_parameters": {},
   "duration": 61.977602,
   "end_time": "2021-05-13T02:40:48.457904",
   "environment_variables": {},
   "exception": null,
   "input_path": "__notebook__.ipynb",
   "output_path": "__notebook__.ipynb",
   "parameters": {},
   "start_time": "2021-05-13T02:39:46.480302",
   "version": "2.3.3"
  }
 },
 "nbformat": 4,
 "nbformat_minor": 5
}
